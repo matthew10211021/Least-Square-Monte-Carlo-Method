{
 "cells": [
  {
   "cell_type": "markdown",
   "id": "473e60ab",
   "metadata": {},
   "source": [
    "### Empirical Study on the Least Square Monte Carlo Algorithm\n",
    "The following items will be investigated:\n",
    "- Choice of basis functions with benchmarking price\n",
    "- Biasedness of LSM\n",
    "\n",
    "The security used will be **Vanilla American Put**"
   ]
  },
  {
   "cell_type": "code",
   "execution_count": 41,
   "id": "04df3a91",
   "metadata": {},
   "outputs": [],
   "source": [
    "import numpy as np\n",
    "import pandas as pd\n",
    "import matplotlib.pyplot as plt "
   ]
  },
  {
   "cell_type": "code",
   "execution_count": 2,
   "id": "5c28443a",
   "metadata": {},
   "outputs": [],
   "source": [
    "# Generate paths\n",
    "def GeometricBrownianMotion(T, nSteps, nPaths, X0, mu, sigma):\n",
    "    dt = T/nSteps\n",
    "    X = np.zeros((nPaths, nSteps))\n",
    "    X[:,0] = X0\n",
    "    for i in range(nSteps-1):\n",
    "        X[:,i+1] = X[:,i] * np.exp((mu - 0.5*sigma**2)*dt + sigma*np.sqrt(dt)*np.random.randn(nPaths))\n",
    "    return X"
   ]
  },
  {
   "cell_type": "code",
   "execution_count": 22,
   "id": "031df002",
   "metadata": {},
   "outputs": [],
   "source": [
    "def get_coef(DCF, S_t, mode, deg):\n",
    "    if mode == \"polynomial\": return np.polynomial.polynomial.polyfit(S_t, DCF, deg)\n",
    "    elif mode == \"laguerre\": return np.polynomial.laguerre.lagfit(S_t, DCF, deg)\n",
    "    elif mode == \"chebyshev\": return np.polynomial.chebyshev.chebfit(S_t, DCF, deg)\n",
    "    elif mode == \"hermite\": return np.polynomial.hermite.hermfit(S_t, DCF, deg)\n",
    "    return None\n",
    "\n",
    "def get_approx(coefs, S_t, mode):\n",
    "    if mode == \"polynomial\": return coefs[0] + np.polynomial.polynomial.Polynomial(coefs[1:])(S_t)\n",
    "    elif mode == \"laguerre\": return coefs[0] + np.polynomial.laguerre.Laguerre(coefs[1:])(S_t)\n",
    "    elif mode == \"chebyshev\": return coefs[0] + np.polynomial.chebyshev.Chebyshev(coefs[1:])(S_t)\n",
    "    elif mode == \"hermite\": return coefs[0] + np.polynomial.hermite.Hermite(coefs[1:])(S_t)\n",
    "    return None\n",
    "\n",
    "class LSM:\n",
    "    def __init__(self, r, dt, K, nPaths, nSteps, nTerms, mode):\n",
    "        self.r = r\n",
    "        self.dt = dt\n",
    "        self.K = K\n",
    "        self.nPaths = nPaths\n",
    "        self.nSteps = nSteps\n",
    "        self.nTerms = nTerms\n",
    "        self.mode = mode\n",
    "        self.coefs = [None] * nSteps\n",
    "        \n",
    "    # LSM to calculate the weights (train)\n",
    "    def LSM_train(self, paths):\n",
    "        exercise_time, DCF = np.empty(self.nPaths), np.empty(self.nPaths)\n",
    "        exercise_time.fill(self.nSteps)\n",
    "        DCF.fill(0)\n",
    "        \n",
    "        # Maturity Payoff\n",
    "        for i in range(self.nPaths):\n",
    "            if paths[i][-1] < self.K: DCF[i] = self.K - paths[i][-1]\n",
    "\n",
    "        # backward induction\n",
    "        for j in range(self.nSteps-2, 0, -1):\n",
    "            \n",
    "            # discount the DCF by one step\n",
    "            DCF = DCF * np.exp(-self.r*self.dt)\n",
    "\n",
    "            S_t = paths[:, j]\n",
    "            exercise_val = np.clip(-S_t+self.K, 0, None)\n",
    "\n",
    "            # only fit the ITM paths\n",
    "            # obtain coefficients\n",
    "            coefs = get_coef(DCF[np.where(exercise_val != 0)], S_t[np.where(exercise_val != 0)], self.mode, self.nTerms)\n",
    "            self.coefs[j] = coefs\n",
    "            \n",
    "            # obtain approximated continuation value and update the DCF based on exercise value\n",
    "            for i in range(self.nPaths):\n",
    "                if exercise_val[i] > 0:\n",
    "                    approx = get_approx(coefs, S_t[i], self.mode)\n",
    "                    if exercise_val[i] > approx:\n",
    "                        exercise_time[i] = j\n",
    "                        DCF[i] = exercise_val[i]\n",
    "\n",
    "    # LSM to calculate the option value (fit)\n",
    "    def LSM_fit(self, paths):\n",
    "        sum_vals = 0\n",
    "        \n",
    "        # forward pass to find the first exercise point\n",
    "        for i in range(self.nPaths):\n",
    "            exercised = False\n",
    "            for j in range(1, self.nSteps-1):\n",
    "                if self.K - paths[i][j] > 0 and self.K - paths[i][j] > get_approx(self.coefs[j], paths[i][j], self.mode):\n",
    "                    sum_vals += (self.K - paths[i][j]) * np.exp(-self.r*self.dt*j)\n",
    "                    exercised = True\n",
    "                    break  # exercised !\n",
    "            if not exercised:\n",
    "                if self.K - paths[i][nSteps-1] > 0: sum_vals += (self.K - paths[i][nSteps-1]) * np.exp(-self.r*self.dt*(nSteps-1))\n",
    "                    \n",
    "        return sum_vals / self.nPaths"
   ]
  },
  {
   "cell_type": "markdown",
   "id": "cf0121c5",
   "metadata": {},
   "source": [
    "### Benchmarking Theoretical Price\n",
    "Theoretical result retrieved in the paper from Longstaff and Schwartz.\\\n",
    "Target: American put with the parameters $S_0=44, \\sigma=0.4, T=2, r=0.06, K=40$\\\n",
    "Benchmark price from finite difference method: $5.647$"
   ]
  },
  {
   "cell_type": "code",
   "execution_count": 37,
   "id": "ecb11ad1",
   "metadata": {},
   "outputs": [
    {
     "name": "stdout",
     "output_type": "stream",
     "text": [
      "Completed path generation\n",
      "Completed degree 2\n",
      "Completed degree 3\n",
      "Completed degree 4\n",
      "Completed degree 5\n",
      "Completed degree 6\n",
      "Completed degree 7\n",
      "Completed degree 8\n",
      "Completed degree 9\n"
     ]
    }
   ],
   "source": [
    "polynomial = []\n",
    "laguerre = []\n",
    "chebyshev = []\n",
    "hermite = []\n",
    "\n",
    "S0, sigma, T, r, K = 44, 0.4, 2, 0.06, 40\n",
    "nPaths = 50000\n",
    "nSteps = 20\n",
    "dt = T / nSteps\n",
    "\n",
    "paths = GeometricBrownianMotion(T, nSteps, nPaths, S0, r, sigma)\n",
    "paths2 = GeometricBrownianMotion(T, nSteps, nPaths, S0, r, sigma)\n",
    "print(\"Completed path generation\")\n",
    "\n",
    "for deg in range(2, 10):\n",
    "    LSM_polynomial = LSM(r, dt, K, nPaths, nSteps, deg, \"polynomial\")\n",
    "    LSM_laguerre = LSM(r, dt, K, nPaths, nSteps, deg, \"laguerre\")\n",
    "    LSM_chebyshev = LSM(r, dt, K, nPaths, nSteps, deg, \"chebyshev\")\n",
    "    LSM_hermite = LSM(r, dt, K, nPaths, nSteps, deg, \"hermite\")\n",
    "    \n",
    "    LSM_polynomial.LSM_train(paths)\n",
    "    LSM_laguerre.LSM_train(paths)\n",
    "    LSM_chebyshev.LSM_train(paths)\n",
    "    LSM_hermite.LSM_train(paths)\n",
    "    \n",
    "    polynomial.append(LSM_polynomial.LSM_fit(paths2))\n",
    "    laguerre.append(LSM_laguerre.LSM_fit(paths2))\n",
    "    chebyshev.append(LSM_chebyshev.LSM_fit(paths2))\n",
    "    hermite.append(LSM_hermite.LSM_fit(paths2))\n",
    "    \n",
    "    print(f\"Completed degree {deg}\")"
   ]
  },
  {
   "cell_type": "code",
   "execution_count": 44,
   "id": "86d149cc",
   "metadata": {},
   "outputs": [
    {
     "data": {
      "image/png": "[encoded data removed]",
      "text/plain": [
       "<Figure size 432x288 with 1 Axes>"
      ]
     },
     "metadata": {
      "needs_background": "light"
     },
     "output_type": "display_data"
    }
   ],
   "source": [
    "benchmark = [5.647] * 8\n",
    "deg = list(range(2, 10))\n",
    "\n",
    "# plot lines \n",
    "plt.plot(deg, polynomial, label = \"Polynomial Powers\") \n",
    "plt.plot(deg, laguerre, label = \"Laguerre Polynomials\") \n",
    "plt.plot(deg, chebyshev, label = \"Chebyshev Polynomials\")\n",
    "plt.plot(deg, hermite, label = \"Hermite Polynomials\") \n",
    "plt.legend()\n",
    "plt.title(\"Comparison betweeh different regressors\")\n",
    "plt.xlabel(\"Number of regressors\")\n",
    "plt.ylabel(\"Price\")\n",
    "plt.show()"
   ]
  }
 ],
 "metadata": {
  "kernelspec": {
   "display_name": "Python 3 (ipykernel)",
   "language": "python",
   "name": "python3"
  },
  "language_info": {
   "codemirror_mode": {
    "name": "ipython",
    "version": 3
   },
   "file_extension": ".py",
   "mimetype": "text/x-python",
   "name": "python",
   "nbconvert_exporter": "python",
   "pygments_lexer": "ipython3",
   "version": "3.9.5"
  }
 },
 "nbformat": 4,
 "nbformat_minor": 5
}
